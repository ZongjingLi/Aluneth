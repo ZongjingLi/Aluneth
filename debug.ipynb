{
 "cells": [
  {
   "cell_type": "code",
   "execution_count": 1,
   "metadata": {},
   "outputs": [
    {
     "name": "stderr",
     "output_type": "stream",
     "text": [
      "[nltk_data] Error loading averaged_perceptron_tagger: <urlopen error\n",
      "[nltk_data]     [Errno 54] Connection reset by peer>\n"
     ]
    },
    {
     "ename": "AttributeError",
     "evalue": "'Namespace' object has no attribute 'domain'",
     "output_type": "error",
     "traceback": [
      "\u001b[0;31m---------------------------------------------------------------------------\u001b[0m",
      "\u001b[0;31mAttributeError\u001b[0m                            Traceback (most recent call last)",
      "\u001b[1;32m/Users/melkor/Documents/GitHub/Aluneth/debug.ipynb Cell 1'\u001b[0m in \u001b[0;36m<cell line: 5>\u001b[0;34m()\u001b[0m\n\u001b[1;32m      <a href='vscode-notebook-cell:/Users/melkor/Documents/GitHub/Aluneth/debug.ipynb#ch0000000?line=1'>2</a>\u001b[0m \u001b[39mfrom\u001b[39;00m \u001b[39mconfig\u001b[39;00m \u001b[39mimport\u001b[39;00m \u001b[39m*\u001b[39m\n\u001b[1;32m      <a href='vscode-notebook-cell:/Users/melkor/Documents/GitHub/Aluneth/debug.ipynb#ch0000000?line=3'>4</a>\u001b[0m langs \u001b[39m=\u001b[39m LanguageModel(config)\n\u001b[0;32m----> <a href='vscode-notebook-cell:/Users/melkor/Documents/GitHub/Aluneth/debug.ipynb#ch0000000?line=4'>5</a>\u001b[0m metar \u001b[39m=\u001b[39m MetaReasoner(config)\n\u001b[1;32m      <a href='vscode-notebook-cell:/Users/melkor/Documents/GitHub/Aluneth/debug.ipynb#ch0000000?line=6'>7</a>\u001b[0m output_seqs \u001b[39m=\u001b[39m langs([\n\u001b[1;32m      <a href='vscode-notebook-cell:/Users/melkor/Documents/GitHub/Aluneth/debug.ipynb#ch0000000?line=7'>8</a>\u001b[0m     \u001b[39m\"\u001b[39m\u001b[39mwhat is that ?\u001b[39m\u001b[39m\"\u001b[39m,\n\u001b[1;32m      <a href='vscode-notebook-cell:/Users/melkor/Documents/GitHub/Aluneth/debug.ipynb#ch0000000?line=8'>9</a>\u001b[0m     \u001b[39m\"\u001b[39m\u001b[39mwhat is Banach-Steinhaus theorem ?\u001b[39m\u001b[39m\"\u001b[39m,\n\u001b[1;32m     <a href='vscode-notebook-cell:/Users/melkor/Documents/GitHub/Aluneth/debug.ipynb#ch0000000?line=9'>10</a>\u001b[0m     \u001b[39m\"\u001b[39m\u001b[39mwhat is that concept ?\u001b[39m\u001b[39m\"\u001b[39m])\n\u001b[1;32m     <a href='vscode-notebook-cell:/Users/melkor/Documents/GitHub/Aluneth/debug.ipynb#ch0000000?line=13'>14</a>\u001b[0m \u001b[39mfor\u001b[39;00m s \u001b[39min\u001b[39;00m output_seqs[\u001b[39m\"\u001b[39m\u001b[39mseq_features\u001b[39m\u001b[39m\"\u001b[39m]:\n",
      "File \u001b[0;32m~/Documents/GitHub/Aluneth/models/reasoning.py:23\u001b[0m, in \u001b[0;36mMetaReasoner.__init__\u001b[0;34m(self, config)\u001b[0m\n\u001b[1;32m     <a href='file:///Users/melkor/Documents/GitHub/Aluneth/models/reasoning.py?line=19'>20</a>\u001b[0m \u001b[39mself\u001b[39m\u001b[39m.\u001b[39mbox_registry \u001b[39m=\u001b[39m build_box_registry(config)\n\u001b[1;32m     <a href='file:///Users/melkor/Documents/GitHub/Aluneth/models/reasoning.py?line=21'>22</a>\u001b[0m \u001b[39m# [Neuro Symbolic Executor]\u001b[39;00m\n\u001b[0;32m---> <a href='file:///Users/melkor/Documents/GitHub/Aluneth/models/reasoning.py?line=22'>23</a>\u001b[0m \u001b[39mself\u001b[39m\u001b[39m.\u001b[39mexecutor \u001b[39m=\u001b[39m SceneProgramExecutor(config)\n\u001b[1;32m     <a href='file:///Users/melkor/Documents/GitHub/Aluneth/models/reasoning.py?line=23'>24</a>\u001b[0m \u001b[39mself\u001b[39m\u001b[39m.\u001b[39mrep \u001b[39m=\u001b[39m config\u001b[39m.\u001b[39mconcept_type\n",
      "File \u001b[0;32m~/Documents/GitHub/Aluneth/models/executor.py:41\u001b[0m, in \u001b[0;36mSceneProgramExecutor.__init__\u001b[0;34m(self, config)\u001b[0m\n\u001b[1;32m     <a href='file:///Users/melkor/Documents/GitHub/Aluneth/models/executor.py?line=38'>39</a>\u001b[0m \u001b[39m# [Word Vocab]\u001b[39;00m\n\u001b[1;32m     <a href='file:///Users/melkor/Documents/GitHub/Aluneth/models/executor.py?line=39'>40</a>\u001b[0m concept_vocab \u001b[39m=\u001b[39m []\n\u001b[0;32m---> <a href='file:///Users/melkor/Documents/GitHub/Aluneth/models/executor.py?line=40'>41</a>\u001b[0m \u001b[39mwith\u001b[39;00m \u001b[39mopen\u001b[39m(\u001b[39m\"\u001b[39m\u001b[39mknowledge/\u001b[39m\u001b[39m{}\u001b[39;00m\u001b[39m_concept_vocab.txt\u001b[39m\u001b[39m\"\u001b[39m\u001b[39m.\u001b[39mformat(config\u001b[39m.\u001b[39;49mdomain)) \u001b[39mas\u001b[39;00m vocab:\n\u001b[1;32m     <a href='file:///Users/melkor/Documents/GitHub/Aluneth/models/executor.py?line=41'>42</a>\u001b[0m     \u001b[39mfor\u001b[39;00m concept_name \u001b[39min\u001b[39;00m vocab:concept_vocab\u001b[39m.\u001b[39mappend(concept_name\u001b[39m.\u001b[39mstrip())\n\u001b[1;32m     <a href='file:///Users/melkor/Documents/GitHub/Aluneth/models/executor.py?line=43'>44</a>\u001b[0m \u001b[39mself\u001b[39m\u001b[39m.\u001b[39mconcept_vocab \u001b[39m=\u001b[39m concept_vocab\n",
      "\u001b[0;31mAttributeError\u001b[0m: 'Namespace' object has no attribute 'domain'"
     ]
    }
   ],
   "source": [
    "from models import *\n",
    "from config import *\n",
    "\n",
    "langs = LanguageModel(config)\n",
    "metar = MetaReasoner(config)\n",
    "\n",
    "output_seqs = langs([\n",
    "    \"what is that ?\",\n",
    "    \"what is Banach-Steinhaus theorem ?\",\n",
    "    \"what is that concept ?\"])\n",
    "\n",
    "\n",
    "\n",
    "for s in output_seqs[\"seq_features\"]:\n",
    "    print(s.shape)\n",
    "\n",
    "\n"
   ]
  }
 ],
 "metadata": {
  "interpreter": {
   "hash": "a47e46093c771f9510c4aabf3710bfb1355e5f870a13f8c22092f45d4d23626d"
  },
  "kernelspec": {
   "display_name": "Python 3.9.13 ('Melkor')",
   "language": "python",
   "name": "python3"
  },
  "language_info": {
   "codemirror_mode": {
    "name": "ipython",
    "version": 3
   },
   "file_extension": ".py",
   "mimetype": "text/x-python",
   "name": "python",
   "nbconvert_exporter": "python",
   "pygments_lexer": "ipython3",
   "version": "3.9.13"
  },
  "orig_nbformat": 4
 },
 "nbformat": 4,
 "nbformat_minor": 2
}
