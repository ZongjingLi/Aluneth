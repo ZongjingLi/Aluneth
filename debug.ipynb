{
 "cells": [
  {
   "cell_type": "code",
   "execution_count": 2,
   "metadata": {},
   "outputs": [
    {
     "name": "stdout",
     "output_type": "stream",
     "text": [
      "Filter(Scene(), banach_space)\n",
      "torch.Size([1, 200])\n",
      "torch.Size([6, 232])\n",
      "torch.Size([7, 232])\n",
      "torch.Size([7, 232])\n"
     ]
    }
   ],
   "source": [
    "from models import *\n",
    "from config import *\n",
    "\n",
    "langs = LanguageModel(config)\n",
    "metar = MetaReasoner(config)\n",
    "\n",
    "output_seqs = langs([\n",
    "    \"what is that ?\",\n",
    "    \"what is Banach-Steinhaus theorem ?\",\n",
    "    \"what is that concept ?\"])\n",
    "\n",
    "print(metar.executor.parse(\"filter(scene(),banach_space)\"))\n",
    "print(metar.executor.get_concept_embedding(\"banach_space\").shape)\n",
    "\n",
    "for s in output_seqs[\"seq_features\"]:\n",
    "    print(s.shape)\n",
    "\n",
    "\n"
   ]
  }
 ],
 "metadata": {
  "interpreter": {
   "hash": "a47e46093c771f9510c4aabf3710bfb1355e5f870a13f8c22092f45d4d23626d"
  },
  "kernelspec": {
   "display_name": "Python 3.9.13 ('Melkor')",
   "language": "python",
   "name": "python3"
  },
  "language_info": {
   "codemirror_mode": {
    "name": "ipython",
    "version": 3
   },
   "file_extension": ".py",
   "mimetype": "text/x-python",
   "name": "python",
   "nbconvert_exporter": "python",
   "pygments_lexer": "ipython3",
   "version": "3.9.13"
  },
  "orig_nbformat": 4
 },
 "nbformat": 4,
 "nbformat_minor": 2
}
