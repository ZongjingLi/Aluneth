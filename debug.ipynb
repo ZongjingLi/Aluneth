{
 "cells": [
  {
   "cell_type": "code",
   "execution_count": 1,
   "metadata": {},
   "outputs": [
    {
     "name": "stderr",
     "output_type": "stream",
     "text": [
      "[nltk_data] Error loading averaged_perceptron_tagger: <urlopen error\n",
      "[nltk_data]     [Errno 8] nodename nor servname provided, or not\n",
      "[nltk_data]     known>\n"
     ]
    },
    {
     "ename": "AttributeError",
     "evalue": "'Namespace' object has no attribute 'num_words'",
     "output_type": "error",
     "traceback": [
      "\u001b[0;31m---------------------------------------------------------------------------\u001b[0m",
      "\u001b[0;31mAttributeError\u001b[0m                            Traceback (most recent call last)",
      "\u001b[1;32m/Users/melkor/Documents/GitHub/Aluneth/debug.ipynb Cell 1'\u001b[0m in \u001b[0;36m<cell line: 4>\u001b[0;34m()\u001b[0m\n\u001b[1;32m      <a href='vscode-notebook-cell:/Users/melkor/Documents/GitHub/Aluneth/debug.ipynb#ch0000000?line=0'>1</a>\u001b[0m \u001b[39mfrom\u001b[39;00m \u001b[39mmodels\u001b[39;00m \u001b[39mimport\u001b[39;00m \u001b[39m*\u001b[39m\n\u001b[1;32m      <a href='vscode-notebook-cell:/Users/melkor/Documents/GitHub/Aluneth/debug.ipynb#ch0000000?line=1'>2</a>\u001b[0m \u001b[39mfrom\u001b[39;00m \u001b[39mconfig\u001b[39;00m \u001b[39mimport\u001b[39;00m \u001b[39m*\u001b[39m\n\u001b[0;32m----> <a href='vscode-notebook-cell:/Users/melkor/Documents/GitHub/Aluneth/debug.ipynb#ch0000000?line=3'>4</a>\u001b[0m langs \u001b[39m=\u001b[39m LanguageModel(config)\n\u001b[1;32m      <a href='vscode-notebook-cell:/Users/melkor/Documents/GitHub/Aluneth/debug.ipynb#ch0000000?line=5'>6</a>\u001b[0m output_seqs \u001b[39m=\u001b[39m langs([\u001b[39m\"\u001b[39m\u001b[39mwhat is that?\u001b[39m\u001b[39m\"\u001b[39m])\n\u001b[1;32m      <a href='vscode-notebook-cell:/Users/melkor/Documents/GitHub/Aluneth/debug.ipynb#ch0000000?line=7'>8</a>\u001b[0m \u001b[39mfor\u001b[39;00m s \u001b[39min\u001b[39;00m output_seqs:\n",
      "File \u001b[0;32m~/Documents/GitHub/Aluneth/models/language.py:11\u001b[0m, in \u001b[0;36mLanguageModel.__init__\u001b[0;34m(self, config)\u001b[0m\n\u001b[1;32m      <a href='file:///Users/melkor/Documents/GitHub/Aluneth/models/language.py?line=8'>9</a>\u001b[0m \u001b[39mdef\u001b[39;00m \u001b[39m__init__\u001b[39m(\u001b[39mself\u001b[39m,config):\n\u001b[1;32m     <a href='file:///Users/melkor/Documents/GitHub/Aluneth/models/language.py?line=9'>10</a>\u001b[0m     \u001b[39msuper\u001b[39m()\u001b[39m.\u001b[39m\u001b[39m__init__\u001b[39m()\n\u001b[0;32m---> <a href='file:///Users/melkor/Documents/GitHub/Aluneth/models/language.py?line=10'>11</a>\u001b[0m     \u001b[39mself\u001b[39m\u001b[39m.\u001b[39mvectorize \u001b[39m=\u001b[39m VectorConstructor(config)\n\u001b[1;32m     <a href='file:///Users/melkor/Documents/GitHub/Aluneth/models/language.py?line=11'>12</a>\u001b[0m     \u001b[39mself\u001b[39m\u001b[39m.\u001b[39mvector_encoder \u001b[39m=\u001b[39m nn\u001b[39m.\u001b[39mGRU(config\u001b[39m.\u001b[39mword_dim,\u001b[39mint\u001b[39m(config\u001b[39m.\u001b[39msemantics_dim\u001b[39m/\u001b[39m\u001b[39m2\u001b[39m), batch_first \u001b[39m=\u001b[39m\u001b[39mTrue\u001b[39;00m, bidirectional\u001b[39m=\u001b[39m\u001b[39mTrue\u001b[39;00m)\n",
      "File \u001b[0;32m~/Documents/GitHub/Aluneth/models/language.py:33\u001b[0m, in \u001b[0;36mVectorConstructor.__init__\u001b[0;34m(self, config)\u001b[0m\n\u001b[1;32m     <a href='file:///Users/melkor/Documents/GitHub/Aluneth/models/language.py?line=29'>30</a>\u001b[0m     \u001b[39mself\u001b[39m\u001b[39m.\u001b[39mtoken_to_id \u001b[39m=\u001b[39m build_vocab(corpus)\n\u001b[1;32m     <a href='file:///Users/melkor/Documents/GitHub/Aluneth/models/language.py?line=30'>31</a>\u001b[0m \u001b[39mself\u001b[39m\u001b[39m.\u001b[39mid_to_token \u001b[39m=\u001b[39m reverse_diction(\u001b[39mself\u001b[39m\u001b[39m.\u001b[39mtoken_to_id)\n\u001b[0;32m---> <a href='file:///Users/melkor/Documents/GitHub/Aluneth/models/language.py?line=32'>33</a>\u001b[0m \u001b[39mself\u001b[39m\u001b[39m.\u001b[39mword_vectors \u001b[39m=\u001b[39m nn\u001b[39m.\u001b[39mEmbedding(config\u001b[39m.\u001b[39;49mnum_words,config\u001b[39m.\u001b[39mword_dim)\n",
      "\u001b[0;31mAttributeError\u001b[0m: 'Namespace' object has no attribute 'num_words'"
     ]
    }
   ],
   "source": [
    "from models import *\n",
    "from config import *\n",
    "\n",
    "langs = LanguageModel(config)\n",
    "\n",
    "output_seqs = langs([\"what is that?\"])\n",
    "\n",
    "for s in output_seqs:\n",
    "    print(s.shape)"
   ]
  }
 ],
 "metadata": {
  "interpreter": {
   "hash": "a47e46093c771f9510c4aabf3710bfb1355e5f870a13f8c22092f45d4d23626d"
  },
  "kernelspec": {
   "display_name": "Python 3.9.13 ('Melkor')",
   "language": "python",
   "name": "python3"
  },
  "language_info": {
   "codemirror_mode": {
    "name": "ipython",
    "version": 3
   },
   "file_extension": ".py",
   "mimetype": "text/x-python",
   "name": "python",
   "nbconvert_exporter": "python",
   "pygments_lexer": "ipython3",
   "version": "3.9.13"
  },
  "orig_nbformat": 4
 },
 "nbformat": 4,
 "nbformat_minor": 2
}
